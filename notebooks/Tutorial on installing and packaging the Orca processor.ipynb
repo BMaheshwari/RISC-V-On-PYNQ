{
 "cells": [
  {
   "cell_type": "markdown",
   "metadata": {},
   "source": [
    "## Packaging an orca processor in PYNQ Z2\n",
    "\n",
    "The main objective of this tutorial is to show integrate the [orca processor] (https://github.com/VectorBlox/orca) with the overlay built to test various RISC processors. It is highly advisable to first try and finish the tutorial notebooks where a pico processor is packaged and run in a PYNQ Z1 board. This also applies to the PYNQ Z2 board. We assume that those tutorials have already been tried and tested by the user.\n",
    "\n",
    "These are the steps to integrate the Orca Processor with the Base Overlay:\n",
    "1. Clone the orca repository\n",
    "2. Open Vivado and package the Orca overlay and create IP\n",
    "3. Attach IP with the base overlay inspired by connections to the Zedboard\n",
    "4. Generate Bitstream and Tcl files for the new overlay and follow the steps in [tutorial-4] (https://github.com/drichmond/RISC-V-On-PYNQ/blob/master/notebooks/tutorial/4-Packaging-An-Overlay.ipynb)\n",
    "\n",
    "**1. Clone the orca repository**"
   ]
  },
  {
   "cell_type": "code",
   "execution_count": null,
   "metadata": {},
   "outputs": [],
   "source": [
    "git clone https://github.com/VectorBlox/orca.git"
   ]
  },
  {
   "cell_type": "markdown",
   "metadata": {},
   "source": [
    "After cloning the repo, enter the \"~Location where Repo is downloaded~/orca/ip/orca/hdl\" folder. This directory location contains all the files necessary to build an IP on Vivado. \n",
    "\n",
    "**2. Open Vivado to create IP**\n",
    "1. After opening Vivado, create new project. After naming your project, click the + sign to add files as source. Select all the files in the hdl folder and add them. Click next and finish creating the project. \n",
    "\n",
    "2. After opening the project, enter tools > setting > IP > Repository and add the ip folder in orca to get the required IPs and interfaces. \n",
    "\n",
    "3. Go to Tools > Create and Package New IP to create the packaged IP\n",
    "\n"
   ]
  },
  {
   "cell_type": "code",
   "execution_count": null,
   "metadata": {},
   "outputs": [],
   "source": []
  }
 ],
 "metadata": {
  "kernelspec": {
   "display_name": "Python 3",
   "language": "python",
   "name": "python3"
  },
  "language_info": {
   "codemirror_mode": {
    "name": "ipython",
    "version": 3
   },
   "file_extension": ".py",
   "mimetype": "text/x-python",
   "name": "python",
   "nbconvert_exporter": "python",
   "pygments_lexer": "ipython3",
   "version": "3.7.0"
  }
 },
 "nbformat": 4,
 "nbformat_minor": 2
}
