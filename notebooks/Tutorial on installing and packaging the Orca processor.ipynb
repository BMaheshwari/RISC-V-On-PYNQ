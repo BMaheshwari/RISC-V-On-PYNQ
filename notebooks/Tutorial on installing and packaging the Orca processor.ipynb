{
 "cells": [
  {
   "cell_type": "markdown",
   "metadata": {},
   "source": [
    "## Packaging an orca processor in PYNQ Z2\n",
    "\n",
    "The main objective of this tutorial is to show integrate the [orca processor] (https://github.com/VectorBlox/orca) with the overlay built to test various RISC processors. It is highly advisable to first try and finish the tutorial notebooks where a pico processor is packaged and run in a PYNQ Z1 board. This also applies to the PYNQ Z2 board. We assume that those tutorials have already been tried and tested by the user.\n",
    "\n",
    "These are the steps to integrate the Orca Processor with the Base Overlay:\n",
    "1. Clone the orca repository\n",
    "2. Open Vivado and package the Orca overlay and create IP\n",
    "3. Attach IP with the base overlay inspired by connections to the Zedboard\n",
    "4. Generate Bitstream and Tcl files for the new overlay and follow the steps in [tutorial-4] (https://github.com/drichmond/RISC-V-On-PYNQ/blob/master/notebooks/tutorial/4-Packaging-An-Overlay.ipynb)\n",
    "\n",
    "**1. Clone the orca repository**"
   ]
  },
  {
   "cell_type": "code",
   "execution_count": null,
   "metadata": {},
   "outputs": [],
   "source": [
    "git clone https://github.com/VectorBlox/orca.git"
   ]
  },
  {
   "cell_type": "markdown",
   "metadata": {},
   "source": [
    "After cloning the repo, enter the \"~Location where Repo is downloaded~/orca/ip/orca/hdl\" folder. This directory location contains all the files necessary to build an IP on Vivado. \n",
    "\n",
    "**2. Open Vivado to create IP**\n",
    "1. After opening Vivado, create new project. After naming your project, click the + sign to add files as source. Select all the files in the hdl folder and add them.Change the library to work by typing work in the library column .Click next and select the xc7z020clg400-1 as the part for your Z2 board finish creating the project. \n",
    "\n",
    "2. Go to Tools > Create and Package New IP to create the packaged IP\n",
    "\n",
    "3. Specify the path for saving your ip, preferably downloaded~/orca/ip/orca_tut\n",
    "\n",
    "4. Configure your ip by initially naming your ip by in the identification window. \n",
    "\n",
    "5. Move on to the ports and interface wwindow. Delete the interfaces DC,IC and timer_interrrupt. We will be needing only the uncached memory. \n",
    "\n",
    "<img src=\"img/ports_interface.png\" width=800>\n",
    "\n",
    "6. Go to addressing and memory, and delete the memory required for DC and IC.\n",
    "\n",
    "<img src=\"img/memory_orca.png\" width=800>\n",
    "\n",
    "7. Proceed to review and package and package your ip.\n",
    "\n"
   ]
  },
  {
   "cell_type": "markdown",
   "metadata": {},
   "source": [
    "**3. Adding ORCA Processor to PYNQ Overlay**\n",
    "1. To get the overlay , follow the steps in tutorial-2 [https://github.com/drichmond/RISC-V-On-PYNQ/blob/master/notebooks/tutorial/2-Creating-A-Bitstream.ipynb] under the section BRAM Processor Overlay.\n",
    "\n",
    "2. Add the ORCA processor by clicking on the + symbol and type the name of the processor as to how you had saved it. \n",
    "\n",
    "3. Click + and add the AXI Interconnect block. Right click and select recustomize ip. Change number of slave interfaces to 2 and master interface to 1.\n",
    "\n",
    "<img src=\"img/interconnect.png\" width=500>\n",
    "\n",
    "4. Connect DUC of ORCA to 1 slave of interconnect, IUC of ORCA to slave 2 of interconnect . Connect the master to the slave of the BRAM controller.\n",
    "\n",
    "5. Connect the clk of slave and master of AXI interconnect and the clk of the ORCA to the riscv_clk pin.\n",
    "\n",
    "6. Similarly connect the AReset pins of the slave and master of the AXI Interconnect and the reset pin of ORCA , with the areset_n pin of the processor system reset block.\n",
    "\n",
    "<img src=\"img/tutorial_processor_connections.png\" style=width=600>\n",
    "\n",
    "<img src=\"img/tutorial_processor_overview.png\" width=600>\n",
    "\n",
    "7. Go to address editor tab and assign the address for the ORCA processor as shown below.\n",
    "\n",
    "<img src=\"img/orca_address.png\" width=800>\n",
    "\n",
    "8. Select tools-> validate design , with no critical warnings or errors. Click generate bitsream.\n",
    "\n",
    "9. Open the block design, click on file -> export -> Export Block Design and save it in the location up one level in the directory tree as mentioned in the tutorial-2 notebook.\n",
    "\n",
    "\n"
   ]
  },
  {
   "cell_type": "code",
   "execution_count": null,
   "metadata": {},
   "outputs": [],
   "source": []
  },
  {
   "cell_type": "code",
   "execution_count": null,
   "metadata": {},
   "outputs": [],
   "source": []
  }
 ],
 "metadata": {
  "kernelspec": {
   "display_name": "Python 3",
   "language": "python",
   "name": "python3"
  },
  "language_info": {
   "codemirror_mode": {
    "name": "ipython",
    "version": 3
   },
   "file_extension": ".py",
   "mimetype": "text/x-python",
   "name": "python",
   "nbconvert_exporter": "python",
   "pygments_lexer": "ipython3",
   "version": "3.7.0"
  }
 },
 "nbformat": 4,
 "nbformat_minor": 2
}
